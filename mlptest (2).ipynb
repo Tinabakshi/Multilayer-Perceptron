{
 "cells": [
  {
   "cell_type": "code",
   "execution_count": 1,
   "metadata": {
    "colab": {
     "base_uri": "https://localhost:8080/"
    },
    "executionInfo": {
     "elapsed": 3363,
     "status": "ok",
     "timestamp": 1606277097436,
     "user": {
      "displayName": "Prajna Hebbar",
      "photoUrl": "https://lh3.googleusercontent.com/a-/AOh14GgDYXi-ut_a9IgG7pxH4X7uOu_VW6LWcmRiLTfK=s64",
      "userId": "10980791166391609215"
     },
     "user_tz": -330
    },
    "id": "LKUl5UmI69_4",
    "outputId": "d341ae7d-8b2e-4ded-dbc8-cf243c6b6d67"
   },
   "outputs": [],
   "source": [
    "import statistics\n",
    "import math\n",
    "from sklearn.metrics import roc_auc_score\n",
    "from scipy.io import arff\n",
    "from scipy.stats.stats import pearsonr\n",
    "import pandas as pd\n",
    "import numpy as np\n",
    "from sklearn.metrics import mean_squared_error\n",
    "from sklearn.model_selection import train_test_split\n",
    "from sklearn.linear_model import PoissonRegressor\n",
    "from sklearn.experimental import enable_hist_gradient_boosting  # noqa\n",
    "from sklearn.ensemble import HistGradientBoostingRegressor\n",
    "from sklearn.linear_model import LinearRegression\n",
    "from sklearn.neighbors import KNeighborsRegressor\n",
    "from sklearn.model_selection import GridSearchCV\n",
    "from sklearn.svm import SVR\n",
    "from sklearn.model_selection import train_test_split\n",
    "from sklearn.preprocessing import scale \n",
    "from sklearn.model_selection import train_test_split\n",
    "from sklearn.linear_model import Ridge, RidgeCV, Lasso, LassoCV\n",
    "from sklearn.metrics import mean_squared_error\n",
    "import seaborn as sns\n",
    "import matplotlib.pyplot as plt\n",
    "\n",
    "%matplotlib inline\n",
    "plt.style.use('fivethirtyeight')\n",
    "plt.rcParams['figure.figsize'] = (15,5)"
   ]
  },
  {
   "cell_type": "code",
   "execution_count": 2,
   "metadata": {
    "colab": {
     "base_uri": "https://localhost:8080/",
     "height": 198
    },
    "executionInfo": {
     "elapsed": 1635,
     "status": "ok",
     "timestamp": 1606277103841,
     "user": {
      "displayName": "Prajna Hebbar",
      "photoUrl": "https://lh3.googleusercontent.com/a-/AOh14GgDYXi-ut_a9IgG7pxH4X7uOu_VW6LWcmRiLTfK=s64",
      "userId": "10980791166391609215"
     },
     "user_tz": -330
    },
    "id": "gx_dGCAI77Nv",
    "outputId": "d7075494-76f1-442b-c184-c219f7ff09a4"
   },
   "outputs": [
    {
     "data": {
      "text/html": [
       "<div>\n",
       "<style scoped>\n",
       "    .dataframe tbody tr th:only-of-type {\n",
       "        vertical-align: middle;\n",
       "    }\n",
       "\n",
       "    .dataframe tbody tr th {\n",
       "        vertical-align: top;\n",
       "    }\n",
       "\n",
       "    .dataframe thead th {\n",
       "        text-align: right;\n",
       "    }\n",
       "</style>\n",
       "<table border=\"1\" class=\"dataframe\">\n",
       "  <thead>\n",
       "    <tr style=\"text-align: right;\">\n",
       "      <th></th>\n",
       "      <th>effort</th>\n",
       "      <th>vi</th>\n",
       "      <th>time</th>\n",
       "    </tr>\n",
       "  </thead>\n",
       "  <tbody>\n",
       "    <tr>\n",
       "      <th>0</th>\n",
       "      <td>222</td>\n",
       "      <td>3.0</td>\n",
       "      <td>74</td>\n",
       "    </tr>\n",
       "    <tr>\n",
       "      <th>1</th>\n",
       "      <td>128</td>\n",
       "      <td>4.0</td>\n",
       "      <td>32</td>\n",
       "    </tr>\n",
       "    <tr>\n",
       "      <th>2</th>\n",
       "      <td>114</td>\n",
       "      <td>5.0</td>\n",
       "      <td>23</td>\n",
       "    </tr>\n",
       "    <tr>\n",
       "      <th>3</th>\n",
       "      <td>88</td>\n",
       "      <td>3.0</td>\n",
       "      <td>29</td>\n",
       "    </tr>\n",
       "    <tr>\n",
       "      <th>4</th>\n",
       "      <td>335</td>\n",
       "      <td>5.0</td>\n",
       "      <td>67</td>\n",
       "    </tr>\n",
       "  </tbody>\n",
       "</table>\n",
       "</div>"
      ],
      "text/plain": [
       "   effort   vi  time\n",
       "0     222  3.0    74\n",
       "1     128  4.0    32\n",
       "2     114  5.0    23\n",
       "3      88  3.0    29\n",
       "4     335  5.0    67"
      ]
     },
     "execution_count": 2,
     "metadata": {},
     "output_type": "execute_result"
    }
   ],
   "source": [
    "zia = pd.read_csv('testd.csv',  header=0)\n",
    "zia.head()"
   ]
  },
  {
   "cell_type": "code",
   "execution_count": 3,
   "metadata": {
    "colab": {
     "base_uri": "https://localhost:8080/"
    },
    "executionInfo": {
     "elapsed": 1725,
     "status": "ok",
     "timestamp": 1606277104632,
     "user": {
      "displayName": "Prajna Hebbar",
      "photoUrl": "https://lh3.googleusercontent.com/a-/AOh14GgDYXi-ut_a9IgG7pxH4X7uOu_VW6LWcmRiLTfK=s64",
      "userId": "10980791166391609215"
     },
     "user_tz": -330
    },
    "id": "IiupCusO8AcX",
    "outputId": "7e7fc80d-86f7-4cc3-dd84-b4d8a55a5ae2"
   },
   "outputs": [
    {
     "name": "stdout",
     "output_type": "stream",
     "text": [
      "<class 'pandas.core.frame.DataFrame'>\n",
      "RangeIndex: 100 entries, 0 to 99\n",
      "Data columns (total 3 columns):\n",
      " #   Column  Non-Null Count  Dtype  \n",
      "---  ------  --------------  -----  \n",
      " 0   effort  100 non-null    int64  \n",
      " 1   vi      100 non-null    float64\n",
      " 2   time    100 non-null    int64  \n",
      "dtypes: float64(1), int64(2)\n",
      "memory usage: 2.5 KB\n"
     ]
    }
   ],
   "source": [
    " zia.info()"
   ]
  },
  {
   "cell_type": "code",
   "execution_count": 4,
   "metadata": {
    "colab": {
     "base_uri": "https://localhost:8080/",
     "height": 288
    },
    "executionInfo": {
     "elapsed": 1325,
     "status": "ok",
     "timestamp": 1606277104640,
     "user": {
      "displayName": "Prajna Hebbar",
      "photoUrl": "https://lh3.googleusercontent.com/a-/AOh14GgDYXi-ut_a9IgG7pxH4X7uOu_VW6LWcmRiLTfK=s64",
      "userId": "10980791166391609215"
     },
     "user_tz": -330
    },
    "id": "NTaOQYFu9ZsR",
    "outputId": "5493a6bd-301b-45ce-96ad-d6cf8be647d3"
   },
   "outputs": [
    {
     "data": {
      "text/html": [
       "<div>\n",
       "<style scoped>\n",
       "    .dataframe tbody tr th:only-of-type {\n",
       "        vertical-align: middle;\n",
       "    }\n",
       "\n",
       "    .dataframe tbody tr th {\n",
       "        vertical-align: top;\n",
       "    }\n",
       "\n",
       "    .dataframe thead th {\n",
       "        text-align: right;\n",
       "    }\n",
       "</style>\n",
       "<table border=\"1\" class=\"dataframe\">\n",
       "  <thead>\n",
       "    <tr style=\"text-align: right;\">\n",
       "      <th></th>\n",
       "      <th>effort</th>\n",
       "      <th>vi</th>\n",
       "      <th>time</th>\n",
       "    </tr>\n",
       "  </thead>\n",
       "  <tbody>\n",
       "    <tr>\n",
       "      <th>count</th>\n",
       "      <td>100.000000</td>\n",
       "      <td>100.000000</td>\n",
       "      <td>100.000000</td>\n",
       "    </tr>\n",
       "    <tr>\n",
       "      <th>mean</th>\n",
       "      <td>204.390000</td>\n",
       "      <td>3.705000</td>\n",
       "      <td>57.540000</td>\n",
       "    </tr>\n",
       "    <tr>\n",
       "      <th>std</th>\n",
       "      <td>80.570052</td>\n",
       "      <td>0.817408</td>\n",
       "      <td>24.059447</td>\n",
       "    </tr>\n",
       "    <tr>\n",
       "      <th>min</th>\n",
       "      <td>62.000000</td>\n",
       "      <td>2.400000</td>\n",
       "      <td>17.000000</td>\n",
       "    </tr>\n",
       "    <tr>\n",
       "      <th>25%</th>\n",
       "      <td>134.750000</td>\n",
       "      <td>3.000000</td>\n",
       "      <td>36.750000</td>\n",
       "    </tr>\n",
       "    <tr>\n",
       "      <th>50%</th>\n",
       "      <td>204.500000</td>\n",
       "      <td>3.900000</td>\n",
       "      <td>56.000000</td>\n",
       "    </tr>\n",
       "    <tr>\n",
       "      <th>75%</th>\n",
       "      <td>277.750000</td>\n",
       "      <td>4.000000</td>\n",
       "      <td>74.250000</td>\n",
       "    </tr>\n",
       "    <tr>\n",
       "      <th>max</th>\n",
       "      <td>348.000000</td>\n",
       "      <td>5.000000</td>\n",
       "      <td>115.000000</td>\n",
       "    </tr>\n",
       "  </tbody>\n",
       "</table>\n",
       "</div>"
      ],
      "text/plain": [
       "           effort          vi        time\n",
       "count  100.000000  100.000000  100.000000\n",
       "mean   204.390000    3.705000   57.540000\n",
       "std     80.570052    0.817408   24.059447\n",
       "min     62.000000    2.400000   17.000000\n",
       "25%    134.750000    3.000000   36.750000\n",
       "50%    204.500000    3.900000   56.000000\n",
       "75%    277.750000    4.000000   74.250000\n",
       "max    348.000000    5.000000  115.000000"
      ]
     },
     "execution_count": 4,
     "metadata": {},
     "output_type": "execute_result"
    }
   ],
   "source": [
    "zia.describe()"
   ]
  },
  {
   "cell_type": "code",
   "execution_count": 5,
   "metadata": {
    "colab": {
     "base_uri": "https://localhost:8080/",
     "height": 438
    },
    "executionInfo": {
     "elapsed": 1356,
     "status": "ok",
     "timestamp": 1606277105065,
     "user": {
      "displayName": "Prajna Hebbar",
      "photoUrl": "https://lh3.googleusercontent.com/a-/AOh14GgDYXi-ut_a9IgG7pxH4X7uOu_VW6LWcmRiLTfK=s64",
      "userId": "10980791166391609215"
     },
     "user_tz": -330
    },
    "id": "tvkW_SBP9eKy",
    "outputId": "54f4dbbe-bee5-47e2-fed9-7f5f670d6bdc"
   },
   "outputs": [
    {
     "data": {
      "text/html": [
       "<div>\n",
       "<style scoped>\n",
       "    .dataframe tbody tr th:only-of-type {\n",
       "        vertical-align: middle;\n",
       "    }\n",
       "\n",
       "    .dataframe tbody tr th {\n",
       "        vertical-align: top;\n",
       "    }\n",
       "\n",
       "    .dataframe thead th {\n",
       "        text-align: right;\n",
       "    }\n",
       "</style>\n",
       "<table border=\"1\" class=\"dataframe\">\n",
       "  <thead>\n",
       "    <tr style=\"text-align: right;\">\n",
       "      <th></th>\n",
       "      <th>effort</th>\n",
       "      <th>vi</th>\n",
       "      <th>time</th>\n",
       "    </tr>\n",
       "  </thead>\n",
       "  <tbody>\n",
       "    <tr>\n",
       "      <th>effort</th>\n",
       "      <td>1.000000</td>\n",
       "      <td>0.149985</td>\n",
       "      <td>0.833673</td>\n",
       "    </tr>\n",
       "    <tr>\n",
       "      <th>vi</th>\n",
       "      <td>0.149985</td>\n",
       "      <td>1.000000</td>\n",
       "      <td>-0.376466</td>\n",
       "    </tr>\n",
       "    <tr>\n",
       "      <th>time</th>\n",
       "      <td>0.833673</td>\n",
       "      <td>-0.376466</td>\n",
       "      <td>1.000000</td>\n",
       "    </tr>\n",
       "  </tbody>\n",
       "</table>\n",
       "</div>"
      ],
      "text/plain": [
       "          effort        vi      time\n",
       "effort  1.000000  0.149985  0.833673\n",
       "vi      0.149985  1.000000 -0.376466\n",
       "time    0.833673 -0.376466  1.000000"
      ]
     },
     "execution_count": 5,
     "metadata": {},
     "output_type": "execute_result"
    }
   ],
   "source": [
    "\n",
    "zia.corr()"
   ]
  },
  {
   "cell_type": "code",
   "execution_count": 6,
   "metadata": {
    "executionInfo": {
     "elapsed": 2732,
     "status": "ok",
     "timestamp": 1606277107227,
     "user": {
      "displayName": "Prajna Hebbar",
      "photoUrl": "https://lh3.googleusercontent.com/a-/AOh14GgDYXi-ut_a9IgG7pxH4X7uOu_VW6LWcmRiLTfK=s64",
      "userId": "10980791166391609215"
     },
     "user_tz": -330
    },
    "id": "JSneJeG99muu"
   },
   "outputs": [],
   "source": [
    "features = ['time','vi','effort']\n",
    "\n",
    "max_corr_features =[ 'time','vi']\n",
    "\n",
    "\n",
    "X = zia[max_corr_features]\n",
    "y = zia['effort']\n",
    "X_train, X_test, y_train, y_test = train_test_split(X, y, test_size=0.2, random_state=22)"
   ]
  },
  {
   "cell_type": "code",
   "execution_count": 7,
   "metadata": {
    "id": "BnPcpnC8Ptm6"
   },
   "outputs": [],
   "source": [
    "res = pd.DataFrame(np.zeros((len(y_test), 1)))"
   ]
  },
  {
   "cell_type": "markdown",
   "metadata": {
    "id": "dFKoYnwVwmuT"
   },
   "source": [
    "MULTI LAYER PERCEPTRON REGRESSION"
   ]
  },
  {
   "cell_type": "code",
   "execution_count": 9,
   "metadata": {
    "colab": {
     "base_uri": "https://localhost:8080/"
    },
    "executionInfo": {
     "elapsed": 18030,
     "status": "ok",
     "timestamp": 1604849499704,
     "user": {
      "displayName": "Prajna Hebbar",
      "photoUrl": "https://lh3.googleusercontent.com/a-/AOh14GgDYXi-ut_a9IgG7pxH4X7uOu_VW6LWcmRiLTfK=s64",
      "userId": "10980791166391609215"
     },
     "user_tz": -330
    },
    "id": "tGDB18Tb-NFA",
    "outputId": "b1bf307d-1f72-45b4-c2d3-3de3ee832b81"
   },
   "outputs": [
    {
     "name": "stdout",
     "output_type": "stream",
     "text": [
      "R^2 Score:  0.9942464765546292\n",
      "19\n",
      "PRED is  95.0\n",
      "MdMRE is  0.008407919743546165\n",
      "Mean Magnitude of Relative Error: 0.028091790121918543\n"
     ]
    }
   ],
   "source": [
    "from sklearn.neural_network import MLPRegressor\n",
    "regr = MLPRegressor(random_state=1, max_iter=30000).fit(X_train, y_train)\n",
    "predictions = regr.predict(X_test)\n",
    "\n",
    "norm1 = np.linalg.norm(predictions)\n",
    "predictions = predictions/norm1\n",
    "\n",
    "norm2 = np.linalg.norm(y_test)\n",
    "y_test = y_test/norm2\n",
    "\n",
    "\n",
    "from sklearn.metrics import r2_score\n",
    "print(\"R^2 Score: \", r2_score(y_test, predictions))\n",
    "\n",
    "MRE=np.abs(np.subtract(y_test,predictions)/y_test)\n",
    "P=MRE[MRE<=0.25]\n",
    "\n",
    "ped=(P.size/MRE.size) * 100\n",
    "print(P.size)\n",
    "print(\"PRED is \",ped)\n",
    "MdMRE=np.median(MRE)\n",
    "print(\"MdMRE is \",MdMRE)\n",
    "\n",
    "print(\"Mean Magnitude of Relative Error:\", np.abs(np.divide(np.subtract(y_test,predictions), y_test)).mean())\n",
    "\n",
    "\n"
   ]
  },
  {
   "cell_type": "code",
   "execution_count": null,
   "metadata": {},
   "outputs": [],
   "source": []
  },
  {
   "cell_type": "code",
   "execution_count": null,
   "metadata": {},
   "outputs": [],
   "source": []
  },
  {
   "cell_type": "code",
   "execution_count": null,
   "metadata": {},
   "outputs": [],
   "source": []
  },
  {
   "cell_type": "code",
   "execution_count": null,
   "metadata": {},
   "outputs": [],
   "source": []
  },
  {
   "cell_type": "code",
   "execution_count": null,
   "metadata": {},
   "outputs": [],
   "source": []
  }
 ],
 "metadata": {
  "colab": {
   "collapsed_sections": [],
   "name": "EffortEstimation.ipynb",
   "provenance": []
  },
  "kernelspec": {
   "display_name": "Python 3",
   "language": "python",
   "name": "python3"
  },
  "language_info": {
   "codemirror_mode": {
    "name": "ipython",
    "version": 3
   },
   "file_extension": ".py",
   "mimetype": "text/x-python",
   "name": "python",
   "nbconvert_exporter": "python",
   "pygments_lexer": "ipython3",
   "version": "3.8.8"
  }
 },
 "nbformat": 4,
 "nbformat_minor": 1
}
